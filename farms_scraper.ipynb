{
 "cells": [
  {
   "cell_type": "code",
   "execution_count": 45,
   "metadata": {},
   "outputs": [],
   "source": [
    "from selenium import webdriver\n",
    "from selenium.webdriver.common.keys import Keys\n",
    "from selenium.webdriver.common.by import By\n",
    "from selenium.webdriver.support.ui import WebDriverWait\n",
    "from selenium.webdriver.support import expected_conditions as EC\n",
    "\n",
    "import time\n",
    "from tqdm import tqdm\n",
    "from bs4 import BeautifulSoup\n",
    "import pandas as pd"
   ]
  },
  {
   "cell_type": "code",
   "execution_count": 46,
   "metadata": {},
   "outputs": [
    {
     "ename": "TimeoutException",
     "evalue": "Message: \n",
     "output_type": "error",
     "traceback": [
      "\u001b[0;31m---------------------------------------------------------------------------\u001b[0m",
      "\u001b[0;31mTimeoutException\u001b[0m                          Traceback (most recent call last)",
      "Cell \u001b[0;32mIn[46], line 20\u001b[0m\n\u001b[1;32m     17\u001b[0m driver\u001b[38;5;241m.\u001b[39mget(\u001b[38;5;124mf\u001b[39m\u001b[38;5;124m\"\u001b[39m\u001b[38;5;124mhttps://map.counterglow.org/farm/\u001b[39m\u001b[38;5;132;01m{\u001b[39;00mfarm_id\u001b[38;5;132;01m}\u001b[39;00m\u001b[38;5;124m\"\u001b[39m)\n\u001b[1;32m     19\u001b[0m wait \u001b[38;5;241m=\u001b[39m WebDriverWait(driver, \u001b[38;5;241m15\u001b[39m)\n\u001b[0;32m---> 20\u001b[0m elements \u001b[38;5;241m=\u001b[39m \u001b[43mwait\u001b[49m\u001b[38;5;241;43m.\u001b[39;49m\u001b[43muntil\u001b[49m\u001b[43m(\u001b[49m\u001b[43mEC\u001b[49m\u001b[38;5;241;43m.\u001b[39;49m\u001b[43mpresence_of_all_elements_located\u001b[49m\u001b[43m(\u001b[49m\u001b[43m(\u001b[49m\u001b[43mBy\u001b[49m\u001b[38;5;241;43m.\u001b[39;49m\u001b[43mCSS_SELECTOR\u001b[49m\u001b[43m,\u001b[49m\u001b[43m \u001b[49m\u001b[38;5;124;43m\"\u001b[39;49m\u001b[38;5;124;43mp.MuiTypography-root.MuiTypography-body2.MuiListItemText-secondary.css-mbfek\u001b[39;49m\u001b[38;5;124;43m\"\u001b[39;49m\u001b[43m)\u001b[49m\u001b[43m)\u001b[49m\u001b[43m)\u001b[49m\n\u001b[1;32m     22\u001b[0m \u001b[38;5;66;03m# Now, you can access the page source\u001b[39;00m\n\u001b[1;32m     23\u001b[0m html \u001b[38;5;241m=\u001b[39m driver\u001b[38;5;241m.\u001b[39mpage_source\n",
      "File \u001b[0;32m~/anaconda3/envs/py3_10_torch/lib/python3.10/site-packages/selenium/webdriver/support/wait.py:105\u001b[0m, in \u001b[0;36mWebDriverWait.until\u001b[0;34m(self, method, message)\u001b[0m\n\u001b[1;32m    <a href='file:///home/filip/anaconda3/envs/py3_10_torch/lib/python3.10/site-packages/selenium/webdriver/support/wait.py?line=102'>103</a>\u001b[0m     \u001b[39mif\u001b[39;00m time\u001b[39m.\u001b[39mmonotonic() \u001b[39m>\u001b[39m end_time:\n\u001b[1;32m    <a href='file:///home/filip/anaconda3/envs/py3_10_torch/lib/python3.10/site-packages/selenium/webdriver/support/wait.py?line=103'>104</a>\u001b[0m         \u001b[39mbreak\u001b[39;00m\n\u001b[0;32m--> <a href='file:///home/filip/anaconda3/envs/py3_10_torch/lib/python3.10/site-packages/selenium/webdriver/support/wait.py?line=104'>105</a>\u001b[0m \u001b[39mraise\u001b[39;00m TimeoutException(message, screen, stacktrace)\n",
      "\u001b[0;31mTimeoutException\u001b[0m: Message: \n"
     ]
    }
   ],
   "source": [
    "driver = webdriver.Chrome()\n",
    "\n",
    "df = pd.read_csv(\"farms_scraped.csv\")\n",
    "\n",
    "start_id = max(df[\"farm_id\"])\n",
    "\n",
    "# Navigate to the website\n",
    "address = list(df[\"address\"])\n",
    "farm_type = list(df[\"farm_type\"])\n",
    "location = list(df[\"location\"])\n",
    "farm_ids = list(df[\"farm_id\"])\n",
    "longitudes = list(df[\"longitude\"])\n",
    "latitudes = list(df[\"latitude\"])\n",
    "\n",
    "\n",
    "for farm_id in range(start_id,126347):\n",
    "    try:\n",
    "        driver.get(f\"https://map.counterglow.org/farm/{farm_id}\")\n",
    "\n",
    "        wait = WebDriverWait(driver, 15)\n",
    "        elements = wait.until(EC.presence_of_all_elements_located((By.CSS_SELECTOR, \"p.MuiTypography-root.MuiTypography-body2.MuiListItemText-secondary.css-mbfek\")))\n",
    "\n",
    "        # Now, you can access the page source\n",
    "        html = driver.page_source\n",
    "        soup = BeautifulSoup(html, 'html.parser')\n",
    "\n",
    "        # Find all the specific divs\n",
    "        mydivs = soup.find_all(\"p\", {\"class\": \"MuiTypography-root MuiTypography-body2 MuiListItemText-secondary css-mbfek\"})\n",
    "        if len(mydivs) == 3:\n",
    "            address.append(mydivs[0].text)\n",
    "            farm_type.append(mydivs[1].text)\n",
    "            location.append(mydivs[2].text)\n",
    "            farm_ids.append(farm_id)\n",
    "            latitudes.append(float(mydivs[2].text.split(\",\")[0]))\n",
    "            longitudes.append(float(mydivs[2].text.split(\",\")[1]))\n",
    "        elif len(mydivs) == 2:\n",
    "            address.append(mydivs[0].text)\n",
    "            farm_type.append(None)\n",
    "            location.append(mydivs[1].text)\n",
    "            farm_ids.append(farm_id)\n",
    "            latitudes.append(float(mydivs[1].text.split(\",\")[0]))\n",
    "            longitudes.append(float(mydivs[1].text.split(\",\")[1]))\n",
    "    except Exception as e:\n",
    "        print(e,f\"in farmid {farm_id}\") \n",
    "\n",
    "        \n",
    "    if farm_id % 10 == 0:\n",
    "        pd.DataFrame({\"address\": address,\n",
    "                     \"farm_type\": farm_type,\n",
    "                     \"location\":location,\n",
    "                     \"farm_id\": farm_ids,\n",
    "                     \"longitude\":longitudes,\n",
    "                     \"latitude\": latitudes}).to_csv(\"farms_scraped.csv\",index=False)\n",
    "\n",
    "# Extract and print all text from the webpage\n",
    "all_text = driver.find_element_by_tag_name(\"body\").text\n",
    "print(all_text)\n",
    "\n",
    "# Close the browser\n",
    "driver.quit()"
   ]
  },
  {
   "cell_type": "code",
   "execution_count": 34,
   "metadata": {},
   "outputs": [],
   "source": [
    "driver.get(f\"https://map.counterglow.org/farm/{farm_id}\")\n",
    "\n",
    "time.sleep(10)"
   ]
  },
  {
   "cell_type": "code",
   "execution_count": 39,
   "metadata": {},
   "outputs": [],
   "source": [
    "df = pd.read_csv(\"farms_scraped.csv\")"
   ]
  },
  {
   "cell_type": "code",
   "execution_count": 43,
   "metadata": {},
   "outputs": [
    {
     "data": {
      "text/plain": [
       "104869"
      ]
     },
     "execution_count": 43,
     "metadata": {},
     "output_type": "execute_result"
    }
   ],
   "source": [
    "list(df[\"address\"])\n",
    "max(df[\"farm_id\"])"
   ]
  },
  {
   "cell_type": "code",
   "execution_count": null,
   "metadata": {},
   "outputs": [],
   "source": []
  }
 ],
 "metadata": {
  "interpreter": {
   "hash": "51b03063b6c5420e5b4a5e5f46b844a7298150f28202dad5b80cccdfbea8ff1b"
  },
  "kernelspec": {
   "display_name": "Python 3.10.13 ('py3_10_torch')",
   "language": "python",
   "name": "python3"
  },
  "language_info": {
   "codemirror_mode": {
    "name": "ipython",
    "version": 3
   },
   "file_extension": ".py",
   "mimetype": "text/x-python",
   "name": "python",
   "nbconvert_exporter": "python",
   "pygments_lexer": "ipython3",
   "version": "3.10.13"
  },
  "orig_nbformat": 4
 },
 "nbformat": 4,
 "nbformat_minor": 2
}
