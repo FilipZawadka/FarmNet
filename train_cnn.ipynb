{
 "cells": [
  {
   "cell_type": "code",
   "execution_count": 1,
   "metadata": {},
   "outputs": [],
   "source": [
    "import pandas as pd\n",
    "import torch\n",
    "import torch.nn as nn\n",
    "import torch.optim as optim\n",
    "from torchvision import transforms, datasets\n",
    "from torch.utils.data import DataLoader, Dataset\n",
    "from PIL import Image\n",
    "import os\n",
    "from sklearn.model_selection import train_test_split"
   ]
  },
  {
   "cell_type": "code",
   "execution_count": 2,
   "metadata": {},
   "outputs": [],
   "source": [
    "# Load dataset\n",
    "df = pd.read_csv('farms_dataset.csv')\n",
    "df['label'] = df['Farm Type'].apply(lambda x: 0 if x == 'Random' else 1)\n",
    "\n",
    "# Custom Dataset Class\n",
    "class FarmDataset(Dataset):\n",
    "    def __init__(self, dataframe, root_dir, transform=None):\n",
    "        self.dataframe = dataframe\n",
    "        self.root_dir = root_dir\n",
    "        self.transform = transform\n",
    "\n",
    "    def __len__(self):\n",
    "        return len(self.dataframe)\n",
    "\n",
    "    def __getitem__(self, idx):\n",
    "        img_path = self.dataframe.iloc[idx, 4]\n",
    "        # Check if the root directory is already in the image path\n",
    "        if not img_path.startswith(self.root_dir):\n",
    "            img_path = os.path.join(self.root_dir, img_path)\n",
    "        image = Image.open(img_path).convert('RGB')\n",
    "        label = self.dataframe.iloc[idx, -1]\n",
    "\n",
    "        if self.transform:\n",
    "            image = self.transform(image)\n",
    "\n",
    "        return image, label\n",
    "\n",
    "\n",
    "# Data Transforms\n",
    "transform = transforms.Compose([\n",
    "    transforms.Resize((400, 400)),\n",
    "    transforms.ToTensor(),\n",
    "])\n",
    "\n",
    "# CNN Model Definition\n",
    "class FarmNet(nn.Module):\n",
    "    def __init__(self):\n",
    "        super(FarmNet, self).__init__()\n",
    "        self.conv1 = nn.Conv2d(3, 16, 3, padding=1)\n",
    "        self.conv2 = nn.Conv2d(16, 32, 3, padding=1)\n",
    "        self.conv3 = nn.Conv2d(32, 64, 3, padding=1)\n",
    "        self.pool = nn.MaxPool2d(2, 2)\n",
    "        self.fc1 = nn.Linear(64 * 50 * 50, 512)\n",
    "        self.fc2 = nn.Linear(512, 2)\n",
    "        self.relu = nn.ReLU()\n",
    "\n",
    "    def forward(self, x):\n",
    "        x = self.pool(self.relu(self.conv1(x)))\n",
    "        x = self.pool(self.relu(self.conv2(x)))\n",
    "        x = self.pool(self.relu(self.conv3(x)))\n",
    "        x = x.view(-1, 64 * 50 * 50)\n",
    "        x = self.relu(self.fc1(x))\n",
    "        x = self.fc2(x)\n",
    "        return x"
   ]
  },
  {
   "cell_type": "code",
   "execution_count": 21,
   "metadata": {},
   "outputs": [
    {
     "name": "stdout",
     "output_type": "stream",
     "text": [
      "Epoch 1, Loss: 1.640096108118693, Validation Accuracy: 65.0%\n",
      "Epoch 2, Loss: 0.5235778788725535, Validation Accuracy: 87.5%\n",
      "Epoch 3, Loss: 0.45914871990680695, Validation Accuracy: 87.5%\n",
      "Epoch 4, Loss: 0.41278985639413196, Validation Accuracy: 80.0%\n",
      "Epoch 5, Loss: 0.3375050375858943, Validation Accuracy: 90.0%\n",
      "Epoch 6, Loss: 0.250460813442866, Validation Accuracy: 90.0%\n",
      "Epoch 7, Loss: 0.17000082383553186, Validation Accuracy: 85.0%\n",
      "Epoch 8, Loss: 0.13157116870085397, Validation Accuracy: 92.5%\n",
      "Epoch 9, Loss: 0.07266261801123619, Validation Accuracy: 95.0%\n",
      "Epoch 10, Loss: 0.049474628642201424, Validation Accuracy: 90.0%\n",
      "Finished Training\n",
      "Test Accuracy: 95.0%\n"
     ]
    }
   ],
   "source": [
    "model = FarmNet()\n",
    "\n",
    "# Loss Function and Optimizer\n",
    "criterion = nn.CrossEntropyLoss()\n",
    "optimizer = optim.Adam(model.parameters(), lr=0.001)\n",
    "\n",
    "# Split data into train, validation, and test sets\n",
    "train_val_df, test_df = train_test_split(df, test_size=0.15, random_state=42)\n",
    "train_df, val_df = train_test_split(train_val_df, test_size=0.15/0.85, random_state=42)\n",
    "\n",
    "# Create datasets\n",
    "train_dataset = FarmDataset(train_df, './data_satelite/', transform=transform)\n",
    "val_dataset = FarmDataset(val_df, './data_satelite/', transform=transform)\n",
    "test_dataset = FarmDataset(test_df, './data_satelite/', transform=transform)\n",
    "\n",
    "# Data loaders\n",
    "train_loader = DataLoader(train_dataset, batch_size=32, shuffle=True)\n",
    "val_loader = DataLoader(val_dataset, batch_size=32, shuffle=False)\n",
    "test_loader = DataLoader(test_dataset, batch_size=32, shuffle=False)\n",
    "\n",
    "# Function to calculate accuracy\n",
    "def calculate_accuracy(loader, model):\n",
    "    correct = 0\n",
    "    total = 0\n",
    "    with torch.no_grad():\n",
    "        for data in loader:\n",
    "            images, labels = data\n",
    "            outputs = model(images)\n",
    "            _, predicted = torch.max(outputs.data, 1)\n",
    "            total += labels.size(0)\n",
    "            correct += (predicted == labels).sum().item()\n",
    "    return 100 * correct / total\n",
    "\n",
    "# Training Loop\n",
    "for epoch in range(10):  # number of epochsa\n",
    "    model.train()\n",
    "    running_loss = 0.0\n",
    "    for i, data in enumerate(train_loader, 0):\n",
    "        inputs, labels = data\n",
    "        optimizer.zero_grad()\n",
    "        outputs = model(inputs)\n",
    "        loss = criterion(outputs, labels)\n",
    "        loss.backward()\n",
    "        optimizer.step()\n",
    "        running_loss += loss.item()\n",
    "\n",
    "    model.eval()\n",
    "    val_accuracy = calculate_accuracy(val_loader, model)\n",
    "    print(f'Epoch {epoch + 1}, Loss: {running_loss / len(train_loader)}, Validation Accuracy: {val_accuracy}%')\n",
    "\n",
    "print('Finished Training')\n",
    "\n",
    "# Optionally, evaluate on test set\n",
    "test_accuracy = calculate_accuracy(test_loader, model)\n",
    "print(f'Test Accuracy: {test_accuracy}%')"
   ]
  },
  {
   "cell_type": "code",
   "execution_count": 3,
   "metadata": {},
   "outputs": [
    {
     "data": {
      "text/plain": [
       "<All keys matched successfully>"
      ]
     },
     "execution_count": 3,
     "metadata": {},
     "output_type": "execute_result"
    }
   ],
   "source": [
    "model = FarmNet()  # Replace with your model and architecture\n",
    "model.load_state_dict(torch.load('farmnet_model/farmnet_model.pth'))"
   ]
  },
  {
   "cell_type": "code",
   "execution_count": 5,
   "metadata": {},
   "outputs": [
    {
     "name": "stderr",
     "output_type": "stream",
     "text": [
      "\u001b[34m\u001b[1mwandb\u001b[0m: Currently logged in as: \u001b[33mfilipz\u001b[0m. Use \u001b[1m`wandb login --relogin`\u001b[0m to force relogin\n"
     ]
    },
    {
     "data": {
      "text/html": [
       "Tracking run with wandb version 0.16.2"
      ],
      "text/plain": [
       "<IPython.core.display.HTML object>"
      ]
     },
     "metadata": {},
     "output_type": "display_data"
    },
    {
     "data": {
      "text/html": [
       "Run data is saved locally in <code>/home/filip/uni/scalable_ml/factory-farms-map/wandb/run-20240110_203017-v5xtpo2y</code>"
      ],
      "text/plain": [
       "<IPython.core.display.HTML object>"
      ]
     },
     "metadata": {},
     "output_type": "display_data"
    },
    {
     "data": {
      "text/html": [
       "Syncing run <strong><a href='https://wandb.ai/filipz/farmnet/runs/v5xtpo2y' target=\"_blank\">visionary-capybara-2</a></strong> to <a href='https://wandb.ai/filipz/farmnet' target=\"_blank\">Weights & Biases</a> (<a href='https://wandb.me/run' target=\"_blank\">docs</a>)<br/>"
      ],
      "text/plain": [
       "<IPython.core.display.HTML object>"
      ]
     },
     "metadata": {},
     "output_type": "display_data"
    },
    {
     "data": {
      "text/html": [
       " View project at <a href='https://wandb.ai/filipz/farmnet' target=\"_blank\">https://wandb.ai/filipz/farmnet</a>"
      ],
      "text/plain": [
       "<IPython.core.display.HTML object>"
      ]
     },
     "metadata": {},
     "output_type": "display_data"
    },
    {
     "data": {
      "text/html": [
       " View run at <a href='https://wandb.ai/filipz/farmnet/runs/v5xtpo2y' target=\"_blank\">https://wandb.ai/filipz/farmnet/runs/v5xtpo2y</a>"
      ],
      "text/plain": [
       "<IPython.core.display.HTML object>"
      ]
     },
     "metadata": {},
     "output_type": "display_data"
    },
    {
     "name": "stderr",
     "output_type": "stream",
     "text": [
      "\u001b[34m\u001b[1mwandb\u001b[0m: Waiting for artifact farmnet_model_1 to be committed...\n",
      "\n",
      "\u001b[34m\u001b[1mwandb\u001b[0m: Committed artifact filipz/farmnet/farmnet_model_1:v0\n"
     ]
    },
    {
     "data": {
      "text/html": [
       "<style>\n",
       "    table.wandb td:nth-child(1) { padding: 0 10px; text-align: left ; width: auto;} td:nth-child(2) {text-align: left ; width: 100%}\n",
       "    .wandb-row { display: flex; flex-direction: row; flex-wrap: wrap; justify-content: flex-start; width: 100% }\n",
       "    .wandb-col { display: flex; flex-direction: column; flex-basis: 100%; flex: 1; padding: 10px; }\n",
       "    </style>\n",
       "<div class=\"wandb-row\"><div class=\"wandb-col\"><h3>Run history:</h3><br/><table class=\"wandb\"><tr><td>acc</td><td>▁</td></tr></table><br/></div><div class=\"wandb-col\"><h3>Run summary:</h3><br/><table class=\"wandb\"><tr><td>acc</td><td>0.95</td></tr></table><br/></div></div>"
      ],
      "text/plain": [
       "<IPython.core.display.HTML object>"
      ]
     },
     "metadata": {},
     "output_type": "display_data"
    },
    {
     "data": {
      "text/html": [
       " View run <strong style=\"color:#cdcd00\">visionary-capybara-2</strong> at: <a href='https://wandb.ai/filipz/farmnet/runs/v5xtpo2y' target=\"_blank\">https://wandb.ai/filipz/farmnet/runs/v5xtpo2y</a><br/>Synced 6 W&B file(s), 0 media file(s), 1 artifact file(s) and 0 other file(s)"
      ],
      "text/plain": [
       "<IPython.core.display.HTML object>"
      ]
     },
     "metadata": {},
     "output_type": "display_data"
    },
    {
     "data": {
      "text/html": [
       "Find logs at: <code>./wandb/run-20240110_203017-v5xtpo2y/logs</code>"
      ],
      "text/plain": [
       "<IPython.core.display.HTML object>"
      ]
     },
     "metadata": {},
     "output_type": "display_data"
    }
   ],
   "source": [
    "import wandb\n",
    "import random\n",
    "\n",
    "# Start a new W&B run\n",
    "with wandb.init(project=\"farmnet\") as run:\n",
    "    # Simulate logging model metricsWW\n",
    "    run.log({\"acc\": test_accuracy})\n",
    "\n",
    "    # Save the dummy model to W&B\n",
    "    best_model = wandb.Artifact(\"farmnet_model_1\", type=\"model\")\n",
    "    best_model.add_file(\"farmnet_model/farmnet_model.pth\")\n",
    "    run.log_artifact(best_model)\n",
    "\n",
    "    # Link the model to the Model Registry\n",
    "    run.link_artifact(best_model, \"model-registry/FarmNet\")\n",
    "\n",
    "    run.finish()"
   ]
  },
  {
   "cell_type": "code",
   "execution_count": 8,
   "metadata": {},
   "outputs": [
    {
     "data": {
      "text/html": [
       "Finishing last run (ID:llndvwbs) before initializing another..."
      ],
      "text/plain": [
       "<IPython.core.display.HTML object>"
      ]
     },
     "metadata": {},
     "output_type": "display_data"
    },
    {
     "data": {
      "text/html": [
       " View run <strong style=\"color:#cdcd00\">wild-glitter-4</strong> at: <a href='https://wandb.ai/filipz/farmnet/runs/llndvwbs' target=\"_blank\">https://wandb.ai/filipz/farmnet/runs/llndvwbs</a><br/>Synced 5 W&B file(s), 0 media file(s), 0 artifact file(s) and 0 other file(s)"
      ],
      "text/plain": [
       "<IPython.core.display.HTML object>"
      ]
     },
     "metadata": {},
     "output_type": "display_data"
    },
    {
     "data": {
      "text/html": [
       "Find logs at: <code>./wandb/run-20240110_203532-llndvwbs/logs</code>"
      ],
      "text/plain": [
       "<IPython.core.display.HTML object>"
      ]
     },
     "metadata": {},
     "output_type": "display_data"
    },
    {
     "data": {
      "text/html": [
       "Successfully finished last run (ID:llndvwbs). Initializing new run:<br/>"
      ],
      "text/plain": [
       "<IPython.core.display.HTML object>"
      ]
     },
     "metadata": {},
     "output_type": "display_data"
    },
    {
     "data": {
      "text/html": [
       "Tracking run with wandb version 0.16.2"
      ],
      "text/plain": [
       "<IPython.core.display.HTML object>"
      ]
     },
     "metadata": {},
     "output_type": "display_data"
    },
    {
     "data": {
      "text/html": [
       "Run data is saved locally in <code>/home/filip/uni/scalable_ml/factory-farms-map/wandb/run-20240110_203557-fkfj6nfu</code>"
      ],
      "text/plain": [
       "<IPython.core.display.HTML object>"
      ]
     },
     "metadata": {},
     "output_type": "display_data"
    },
    {
     "data": {
      "text/html": [
       "Syncing run <strong><a href='https://wandb.ai/filipz/farmnet/runs/fkfj6nfu' target=\"_blank\">fiery-dawn-5</a></strong> to <a href='https://wandb.ai/filipz/farmnet' target=\"_blank\">Weights & Biases</a> (<a href='https://wandb.me/run' target=\"_blank\">docs</a>)<br/>"
      ],
      "text/plain": [
       "<IPython.core.display.HTML object>"
      ]
     },
     "metadata": {},
     "output_type": "display_data"
    },
    {
     "data": {
      "text/html": [
       " View project at <a href='https://wandb.ai/filipz/farmnet' target=\"_blank\">https://wandb.ai/filipz/farmnet</a>"
      ],
      "text/plain": [
       "<IPython.core.display.HTML object>"
      ]
     },
     "metadata": {},
     "output_type": "display_data"
    },
    {
     "data": {
      "text/html": [
       " View run at <a href='https://wandb.ai/filipz/farmnet/runs/fkfj6nfu' target=\"_blank\">https://wandb.ai/filipz/farmnet/runs/fkfj6nfu</a>"
      ],
      "text/plain": [
       "<IPython.core.display.HTML object>"
      ]
     },
     "metadata": {},
     "output_type": "display_data"
    },
    {
     "name": "stderr",
     "output_type": "stream",
     "text": [
      "\u001b[34m\u001b[1mwandb\u001b[0m: Downloading large artifact farmnet_model_1:latest, 312.60MB. 1 files... \n",
      "\u001b[34m\u001b[1mwandb\u001b[0m:   1 of 1 files downloaded.  \n",
      "Done. 0:0:0.5\n"
     ]
    },
    {
     "data": {
      "text/html": [
       " View run <strong style=\"color:#cdcd00\">fiery-dawn-5</strong> at: <a href='https://wandb.ai/filipz/farmnet/runs/fkfj6nfu' target=\"_blank\">https://wandb.ai/filipz/farmnet/runs/fkfj6nfu</a><br/>Synced 6 W&B file(s), 0 media file(s), 0 artifact file(s) and 0 other file(s)"
      ],
      "text/plain": [
       "<IPython.core.display.HTML object>"
      ]
     },
     "metadata": {},
     "output_type": "display_data"
    },
    {
     "data": {
      "text/html": [
       "Find logs at: <code>./wandb/run-20240110_203557-fkfj6nfu/logs</code>"
      ],
      "text/plain": [
       "<IPython.core.display.HTML object>"
      ]
     },
     "metadata": {},
     "output_type": "display_data"
    }
   ],
   "source": [
    "run = wandb.init(project=\"farmnet\", job_type='inference')\n",
    "artifact = run.use_artifact(\"farmnet_model_1:latest\", type='model')\n",
    "artifact_dir = artifact.download()\n",
    "wandb.finish()"
   ]
  },
  {
   "cell_type": "markdown",
   "metadata": {},
   "source": [
    "#### Tesing Finetunig Resnet (worse result)"
   ]
  },
  {
   "cell_type": "code",
   "execution_count": 11,
   "metadata": {},
   "outputs": [
    {
     "name": "stderr",
     "output_type": "stream",
     "text": [
      "/home/filip/anaconda3/envs/py3_10_torch/lib/python3.10/site-packages/torchvision/models/_utils.py:208: UserWarning: The parameter 'pretrained' is deprecated since 0.13 and may be removed in the future, please use 'weights' instead.\n",
      "  warnings.warn(\n",
      "/home/filip/anaconda3/envs/py3_10_torch/lib/python3.10/site-packages/torchvision/models/_utils.py:223: UserWarning: Arguments other than a weight enum or `None` for 'weights' are deprecated since 0.13 and may be removed in the future. The current behavior is equivalent to passing `weights=ResNet18_Weights.IMAGENET1K_V1`. You can also use `weights=ResNet18_Weights.DEFAULT` to get the most up-to-date weights.\n",
      "  warnings.warn(msg)\n",
      "Downloading: \"https://download.pytorch.org/models/resnet18-f37072fd.pth\" to /home/filip/.cache/torch/hub/checkpoints/resnet18-f37072fd.pth\n",
      "100%|██████████| 44.7M/44.7M [00:06<00:00, 7.12MB/s]\n"
     ]
    }
   ],
   "source": [
    "import torchvision.models as models\n",
    "\n",
    "# Load a pre-trained ResNet model\n",
    "model = models.resnet18(pretrained=True)\n",
    "\n",
    "# Modify the final fully connected layer\n",
    "num_ftrs = model.fc.in_features\n",
    "model.fc = nn.Linear(num_ftrs, 2) # Assuming binary classification\n",
    "\n",
    "# Define loss function and optimizer\n",
    "criterion = nn.CrossEntropyLoss()\n",
    "optimizer = optim.Adam(model.parameters(), lr=0.001)\n"
   ]
  },
  {
   "cell_type": "code",
   "execution_count": 13,
   "metadata": {},
   "outputs": [
    {
     "name": "stdout",
     "output_type": "stream",
     "text": [
      "Epoch 1, Loss: 2.0425245066483817, Validation Accuracy: 87.5%\n",
      "Epoch 2, Loss: 0.5600331525007883, Validation Accuracy: 87.5%\n",
      "Epoch 3, Loss: 0.49221118291219074, Validation Accuracy: 87.5%\n",
      "Epoch 4, Loss: 0.4861273020505905, Validation Accuracy: 87.5%\n",
      "Epoch 5, Loss: 0.4201107670863469, Validation Accuracy: 87.5%\n",
      "Epoch 6, Loss: 0.5022070606549581, Validation Accuracy: 95.0%\n",
      "Epoch 7, Loss: 0.39630846679210663, Validation Accuracy: 80.0%\n",
      "Epoch 8, Loss: 0.3230523963769277, Validation Accuracy: 90.0%\n",
      "Epoch 9, Loss: 0.3381749428808689, Validation Accuracy: 92.5%\n",
      "Epoch 10, Loss: 0.5580974308152994, Validation Accuracy: 67.5%\n",
      "Finished Training\n",
      "Test Accuracy: 77.5%\n"
     ]
    }
   ],
   "source": [
    "# Split data into train, validation, and test sets\n",
    "train_val_df, test_df = train_test_split(df, test_size=0.15, random_state=42)\n",
    "train_df, val_df = train_test_split(train_val_df, test_size=0.15/0.85, random_state=42)\n",
    "\n",
    "# Create datasets\n",
    "train_dataset = FarmDataset(train_df, './data_satelite/', transform=transform)\n",
    "val_dataset = FarmDataset(val_df, './data_satelite/', transform=transform)\n",
    "test_dataset = FarmDataset(test_df, './data_satelite/', transform=transform)\n",
    "\n",
    "# Data loaders\n",
    "train_loader = DataLoader(train_dataset, batch_size=32, shuffle=True)\n",
    "val_loader = DataLoader(val_dataset, batch_size=32, shuffle=False)\n",
    "test_loader = DataLoader(test_dataset, batch_size=32, shuffle=False)\n",
    "\n",
    "# Function to calculate accuracy\n",
    "def calculate_accuracy(loader, model):\n",
    "    correct = 0\n",
    "    total = 0\n",
    "    with torch.no_grad():\n",
    "        for data in loader:\n",
    "            images, labels = data\n",
    "            outputs = model(images)\n",
    "            _, predicted = torch.max(outputs.data, 1)\n",
    "            total += labels.size(0)\n",
    "            correct += (predicted == labels).sum().item()\n",
    "    return 100 * correct / total\n",
    "\n",
    "# Training Loop\n",
    "for epoch in range(10):  # number of epochsa\n",
    "    model.train()\n",
    "    running_loss = 0.0\n",
    "    for i, data in enumerate(train_loader, 0):\n",
    "        inputs, labels = data\n",
    "        optimizer.zero_grad()\n",
    "        outputs = model(inputs)\n",
    "        loss = criterion(outputs, labels)\n",
    "        loss.backward()\n",
    "        optimizer.step()\n",
    "        running_loss += loss.item()\n",
    "\n",
    "    model.eval()\n",
    "    val_accuracy = calculate_accuracy(val_loader, model)\n",
    "    print(f'Epoch {epoch + 1}, Loss: {running_loss / len(train_loader)}, Validation Accuracy: {val_accuracy}%')\n",
    "\n",
    "print('Finished Training')\n",
    "\n",
    "# Optionally, evaluate on test set\n",
    "test_accuracy = calculate_accuracy(test_loader, model)\n",
    "print(f'Test Accuracy: {test_accuracy}%')"
   ]
  },
  {
   "cell_type": "code",
   "execution_count": null,
   "metadata": {},
   "outputs": [],
   "source": []
  }
 ],
 "metadata": {
  "interpreter": {
   "hash": "51b03063b6c5420e5b4a5e5f46b844a7298150f28202dad5b80cccdfbea8ff1b"
  },
  "kernelspec": {
   "display_name": "Python 3.10.13 ('py3_10_torch')",
   "language": "python",
   "name": "python3"
  },
  "language_info": {
   "codemirror_mode": {
    "name": "ipython",
    "version": 3
   },
   "file_extension": ".py",
   "mimetype": "text/x-python",
   "name": "python",
   "nbconvert_exporter": "python",
   "pygments_lexer": "ipython3",
   "version": "3.10.13"
  },
  "orig_nbformat": 4
 },
 "nbformat": 4,
 "nbformat_minor": 2
}
